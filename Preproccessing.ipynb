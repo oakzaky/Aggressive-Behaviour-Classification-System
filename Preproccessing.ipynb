{
 "cells": [
  {
   "cell_type": "code",
   "execution_count": 1,
   "metadata": {},
   "outputs": [],
   "source": [
    "import os\n",
    "import cv2\n",
    "import matplotlib.pyplot as plt"
   ]
  },
  {
   "cell_type": "code",
   "execution_count": 3,
   "metadata": {},
   "outputs": [],
   "source": [
    "def create_training_data():\n",
    "    DATADIR = \"D:/GP/Dataset/train\"\n",
    "    PREDIR = \"D:/GP/Dataset/pretrain\"\n",
    "    CATS = [\"nonV\",\"V\"]\n",
    "    for cat in CATS:\n",
    "        path = os.path.join(DATADIR, cat)\n",
    "        prepath = os.path.join(PREDIR, cat)\n",
    "        if not os.path.exists(prepath):\n",
    "            os.makedirs(prepath)\n",
    "        class_num = CATS.index(cat)\n",
    "        for vid in os.listdir(path):\n",
    "            try:\n",
    "                vid_array = cv2.VideoCapture(os.path.join(path,vid))\n",
    "                for frame_idx in range(int(vid_array.get(cv2.CAP_PROP_FRAME_COUNT))):\n",
    "                    ret,frame = vid_array.read()\n",
    "                    cv2.imwrite(os.path.join(prepath,str(vid) + str(frame_idx) + '.jpg'), frame)\n",
    "            except Exception as e:\n",
    "                pass\n",
    "\n",
    "create_training_data()"
   ]
  },
  {
   "cell_type": "code",
   "execution_count": null,
   "metadata": {},
   "outputs": [],
   "source": [
    "def create_validation_data():\n",
    "    DATADIR = \"D:/GP/Dataset/val\"\n",
    "    PREDIR = \"D:/GP/Dataset/preval\"\n",
    "    CATS = [\"nonV\",\"V\"]\n",
    "    for cat in CATS:\n",
    "        path = os.path.join(DATADIR, cat)\n",
    "        prepath = os.path.join(PREDIR, cat)\n",
    "        if not os.path.exists(prepath):\n",
    "            os.makedirs(prepath)\n",
    "        class_num = CATS.index(cat)\n",
    "        for vid in os.listdir(path):\n",
    "            try:\n",
    "                vid_array = cv2.VideoCapture(os.path.join(path,vid))\n",
    "                for frame_idx in range(int(vid_array.get(cv2.CAP_PROP_FRAME_COUNT))):\n",
    "                    ret,frame = vid_array.read()\n",
    "                    cv2.imwrite(os.path.join(prepath,str(vid) + str(frame_idx) + '.jpg'), frame)\n",
    "            except Exception as e:\n",
    "                pass\n",
    "\n",
    "create_validation_data()"
   ]
  }
 ],
 "metadata": {
  "interpreter": {
   "hash": "5065e8237850c8798ac579e3d8412b274f3747a9e6c09d5b0b8c088d8015b9dd"
  },
  "kernelspec": {
   "display_name": "Python 3.9.12 ('tensorflow')",
   "language": "python",
   "name": "python3"
  },
  "language_info": {
   "codemirror_mode": {
    "name": "ipython",
    "version": 3
   },
   "file_extension": ".py",
   "mimetype": "text/x-python",
   "name": "python",
   "nbconvert_exporter": "python",
   "pygments_lexer": "ipython3",
   "version": "3.9.12"
  },
  "orig_nbformat": 4
 },
 "nbformat": 4,
 "nbformat_minor": 2
}
